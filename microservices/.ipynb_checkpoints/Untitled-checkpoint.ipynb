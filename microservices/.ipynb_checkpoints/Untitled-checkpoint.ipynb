{
 "cells": [
  {
   "cell_type": "code",
   "execution_count": 101,
   "metadata": {},
   "outputs": [],
   "source": [
    "import collections.abc\n",
    "import pandas as pd\n",
    "from datetime import datetime\n",
    "\n"
   ]
  },
  {
   "cell_type": "code",
   "execution_count": 102,
   "metadata": {},
   "outputs": [],
   "source": [
    "import requests\n",
    "import sys\n",
    "from requests.auth import HTTPBasicAuth\n",
    "\n",
    "def GetMetrixNames(url):\n",
    "    new_url = '{0}/api/v1/label/__name__/values'.format(url)\n",
    "    response = requests.get(new_url,auth=HTTPBasicAuth('admin', 'foobar'))\n",
    "    names = response.json()['data']\n",
    "    return names\n",
    "\n",
    "\n",
    "metrixNames=GetMetrixNames(\"http://localhost:9090\")\n",
    "\n",
    "df = pd.DataFrame()\n",
    "for metrixName in metrixNames:\n",
    "    response = requests.get('{0}/api/v1/query'.format(\"http://localhost:9090\"), params={'query': metrixName+'[1s]'},auth=HTTPBasicAuth('admin', 'foobar'))\n",
    "    results = response.json()['data']['result']\n",
    "    results = [correct_values(flatten(result)) for result in results] \n",
    "    df = df.append(pd.DataFrame().from_dict(results))"
   ]
  },
  {
   "cell_type": "code",
   "execution_count": null,
   "metadata": {},
   "outputs": [],
   "source": [
    "time.u"
   ]
  },
  {
   "cell_type": "code",
   "execution_count": null,
   "metadata": {},
   "outputs": [],
   "source": [
    "class TraceCollector:\n",
    "    def __init__(self, url, username, password, output_file, from_date=None, to_date=None):\n",
    "        self.username = username\n",
    "        self.password = password\n",
    "        self.auth = HTTPBasicAuth(username, password)\n",
    "        self.url = url\n",
    "        self.output_file = output_file\n",
    "        self.from_date = from_date\n",
    "        self.to_date = to_date\n",
    "        \n",
    "    def get_matrix_names(self, url)\n",
    "        new_url = '{0}/api/v1/label/__name__/values'.format(url)\n",
    "        response = requests.get(new_url,auth=self.auth)\n",
    "        names = response.json()['data']\n",
    "        return names\n",
    "    \n",
    "    def get_data(self,from_date=None,to_date=None):\n",
    "        matrix_names = get_matrix_names(self.url)\n",
    "        df = pd.DataFrame()\n",
    "        for metrixName in metrixNames:\n",
    "            response = requests.get(f'{self.url}/api/v1/query', params={'query': metrixName+'[1s]'},auth=self.auth)\n",
    "            results = response.json()['data']['result']\n",
    "            results = [correct_values(flatten(result)) for result in results] \n",
    "            df = df.append(pd.DataFrame().from_dict(results))\n",
    "        self.store_data(df)\n",
    "        \n",
    "    def store_data(self,df):\n",
    "        df.to_csv(output_file)\n",
    "\n",
    "    @staticmethod\n",
    "    def flatten(d, parent_key='', sep='_'):\n",
    "        items = []\n",
    "        for k, v in d.items():\n",
    "            new_key = parent_key + sep + k if parent_key else k\n",
    "            if isinstance(v, collections.MutableMapping):\n",
    "                items.extend(flatten(v, new_key, sep=sep).items())\n",
    "            else:\n",
    "                items.append((new_key, v))\n",
    "        return dict(items)\n",
    "    \n",
    "    @staticmethod\n",
    "    def correct_values(d):\n",
    "        new_d = dict()\n",
    "        new_d['timestamp'] = time.strftime('%Y-%m-%d %H:%M:%S', time.gmtime(d['values'][0][0]))\n",
    "        new_d['value'] = d['values'][0][1]\n",
    "        del d['values']\n",
    "        new_d['labels'] = d\n",
    "        return new_d"
   ]
  }
 ],
 "metadata": {
  "kernelspec": {
   "display_name": "Python 3",
   "language": "python",
   "name": "python3"
  },
  "language_info": {
   "codemirror_mode": {
    "name": "ipython",
    "version": 3
   },
   "file_extension": ".py",
   "mimetype": "text/x-python",
   "name": "python",
   "nbconvert_exporter": "python",
   "pygments_lexer": "ipython3",
   "version": "3.8.2"
  }
 },
 "nbformat": 4,
 "nbformat_minor": 4
}
